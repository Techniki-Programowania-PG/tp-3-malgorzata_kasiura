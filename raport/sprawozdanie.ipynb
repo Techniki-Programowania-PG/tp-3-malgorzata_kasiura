{
 "cells": [
  {
   "cell_type": "markdown",
   "metadata": {},
   "source": [
    "# TECHNIKI PROGRAMOWANIA - projekt 3\n",
    "### Małgorzata Kasiura 198219\n",
    "\n",
    "Wykorzystane biblioteki:\n",
    "- matplotplusplus (c++)\n",
    "- pybind11 (c++)\n",
    "- vector (c++)\n",
    "- complex (c++)\n",
    "- string (c++)\n",
    "- numpy (python)\n",
    "\n"
   ]
  },
  {
   "cell_type": "markdown",
   "metadata": {},
   "source": [
    "## 1. Wizualizacja sygnału z wykorzystaniem biblioteki matplotplus\n",
    "Przykład obrazujący zaimplementowaną funkcjonalnośc rysowania wykresów 1 wymiarowych"
   ]
  },
  {
   "cell_type": "code",
   "execution_count": null,
   "metadata": {},
   "outputs": [],
   "source": [
    "import scikit_build_example as sbe\n",
    "import numpy as np\n",
    "\n",
    "x = np.linspace(0, 10 * np.pi, 1000)\n",
    "y = np.sin(x)\n",
    "\n",
    "sbe.plot_line(x, y)"
   ]
  },
  {
   "cell_type": "markdown",
   "metadata": {},
   "source": [
    "![Sine plot](sine_plot.png)"
   ]
  },
  {
   "cell_type": "markdown",
   "metadata": {},
   "source": [
    "## 2.1. DFT\n",
    "Kilka przykładowych przebiegów implementacji DFT:"
   ]
  },
  {
   "cell_type": "markdown",
   "metadata": {},
   "source": [
    "###  sin(ft)"
   ]
  },
  {
   "cell_type": "code",
   "execution_count": null,
   "metadata": {},
   "outputs": [],
   "source": [
    "f = 10\n",
    "N = 1000\n",
    "t = np.linspace(0, 2 * np.pi, N)\n",
    "\n",
    "x = np.sin(f * t)\n",
    "X = np.abs(np.fft.rfft(x)) ** 2\n",
    "\n",
    "sbe.plot_line(t, x)\n",
    "# zapisane jako sin_ft.png\n",
    "sbe.plot_line(np.arange(N), X)\n",
    "# zapisane jako sin_ft_fft.png"
   ]
  },
  {
   "cell_type": "markdown",
   "metadata": {},
   "source": [
    "![sin ft](sin_ft.png)\n",
    "![sin_ft_fft](sin_ft_fft.png)"
   ]
  },
  {
   "cell_type": "markdown",
   "metadata": {},
   "source": [
    "### sin(10 * ft)"
   ]
  },
  {
   "cell_type": "code",
   "execution_count": null,
   "metadata": {},
   "outputs": [],
   "source": [
    "x = np.sin(10 * f * t)\n",
    "X = np.abs(np.fft.rfft(x)) ** 2\n",
    "\n",
    "sbe.plot_line(t, x)\n",
    "# zapisane jako sin_10_ft.png\n",
    "sbe.plot_line(np.arange(N), X)\n",
    "# zapisane jako sin_10_ft_fft.png"
   ]
  },
  {
   "cell_type": "markdown",
   "metadata": {},
   "source": [
    "![sin ft](sin_10_ft.png)\n",
    "![sin_ft_fft](sin_10_ft_fft.png)"
   ]
  },
  {
   "cell_type": "markdown",
   "metadata": {},
   "source": [
    "## 2.2. IDFT\n",
    "Implementacja IDFT do odwrócenia transformacji sygnałów z poprzedniego punktu"
   ]
  },
  {
   "cell_type": "markdown",
   "metadata": {},
   "source": [
    "### sin(ft)"
   ]
  },
  {
   "cell_type": "code",
   "execution_count": null,
   "metadata": {},
   "outputs": [],
   "source": [
    "f = 10\n",
    "N = 1000\n",
    "t = np.linspace(0, 2 * np.pi, N)\n",
    "x = np.sin(f * t)\n",
    "x1=np.abs(sbe.DFT(x))**2\n",
    "x2 = sbe.IDFT(sbe.DFT(x))\n",
    "sbe.plot_line(t,x)\n",
    "# zapisane jako sin_ft.png\n",
    "sbe.plot_line(t,x1)\n",
    "# zapisane jako sin_ft_fft.png\n",
    "sbe.plot_line(t,x2)\n",
    "# zapisane jako sin_10_ft_ifft.png"
   ]
  },
  {
   "cell_type": "markdown",
   "metadata": {},
   "source": [
    "![sin ft](sin_ft.png)\n",
    "![sin_ft_fft](sin_ft_fft.png)\n",
    "![sin_ft_ifft](sin_ft_ifft.png)"
   ]
  },
  {
   "cell_type": "markdown",
   "metadata": {},
   "source": [
    "### sin(10*ft)"
   ]
  },
  {
   "cell_type": "code",
   "execution_count": null,
   "metadata": {},
   "outputs": [],
   "source": [
    "x = np.sin(10 * f * t)\n",
    "x1 = np.abs(sbe.DFT(x)) ** 2\n",
    "x2=sbe.IDFT(sbe.DFT(x))\n",
    "sbe.plot_line(t, x)\n",
    "# zapisane jako sin_10_ft.png\n",
    "sbe.plot_line(np.arange(N), x1)\n",
    "# zapisane jako sin_10_ft_fft.png\n",
    "sbe.plot_line(np.arange(N), x2)\n",
    "# zapisane jako sin_10_ft_ifft.png"
   ]
  },
  {
   "cell_type": "markdown",
   "metadata": {},
   "source": [
    "![sin ft](sin_10_ft.png)\n",
    "![sin_ft_fft](sin_10_ft_fft.png)\n",
    "![sin_ft_fft](sin_10_ft_ifft.png)"
   ]
  },
  {
   "cell_type": "markdown",
   "metadata": {},
   "source": [
    "## 3.1. Filtracja 1D \n",
    "\n",
    "Przykład zastosowania filtrów jednowymiarowych o różnych rozmiarach do odszumienia sygnału "
   ]
  },
  {
   "cell_type": "code",
   "execution_count": null,
   "metadata": {},
   "outputs": [],
   "source": [
    "step_signal = np.zeros(100)\n",
    "step_signal[50:] = 1\n",
    "x=np.linspace(0,1,100)\n",
    "sbe.plot_line(x,step_signal)\n",
    "# zapisane jako step_signal.png\n",
    "noisy_signal = (step_signal + np.random.normal(0, 0.33,len(step_signal)))\n",
    "sbe.plot_line(x,noisy_signal)\n",
    "# zapisane jako noisy_signal.png\n",
    "filtered_signal_3=sbe.filtr1d(noisy_signal,3)\n",
    "sbe.plot_line(x,filtered_signal_3)\n",
    "# zapisane jako filtered_signal_3.png\n",
    "filtered_signal_30=sbe.filtr1d(noisy_signal,30)\n",
    "sbe.plot_line(x,filtered_signal_30)\n",
    "# zapisane jako filtered_signal_30.png"
   ]
  },
  {
   "cell_type": "markdown",
   "metadata": {},
   "source": [
    "![step_signal](step_signal.png)\n",
    "![noisy_signal](noisy_signal.png)\n",
    "![filtered_signal_3](filtered_signal_3.png)\n",
    "![filtered_signal_30](filtered_signal_30.png)"
   ]
  },
  {
   "cell_type": "markdown",
   "metadata": {},
   "source": [
    "## 3.2. Filtracja 2D \n",
    "\n",
    "Przykład zastosowania filtrów dwuwymiarowych o różnych rozmiarach do filtracji obrazu\n"
   ]
  },
  {
   "cell_type": "code",
   "execution_count": null,
   "metadata": {},
   "outputs": [],
   "source": [
    "x=sbe.read_image(\"kot.jpeg\")\n",
    "sbe.show_image(sbe.read_image(\"kot.jpeg\"))\n",
    "# zapisane jako image.png\n",
    "filtered_image_2=sbe.filtr2d(x,2)\n",
    "sbe.show_image(filtered_image_2)\n",
    "# zapisane jako filtered_image_2.png\n",
    "filtered_image_10=sbe.filtr2d(x,10)\n",
    "sbe.show_image(filtered_image_10)\n",
    "# zapisane jako filtered_image_10.png"
   ]
  },
  {
   "cell_type": "markdown",
   "metadata": {},
   "source": [
    "![image](image.png)\n",
    "![filtered_image_2](filtered_image_2.png)\n",
    "![filtered_image_10](filtered_image_10.png)\n"
   ]
  },
  {
   "cell_type": "markdown",
   "metadata": {},
   "source": [
    "\n",
    "## 4. Generowanie sygnałów o określonej częstotliwości\n",
    "- sinus (częstotliwość,czas początkowy, czas końcowy, ilość próbek)\n"
   ]
  },
  {
   "cell_type": "code",
   "execution_count": null,
   "metadata": {},
   "outputs": [],
   "source": [
    "y1=sbe.sinus(1/15,15,48,1000)\n",
    "x1=np.linspace(0,45,len(y1))\n",
    "sbe.plot_line(x1,y1)\n",
    "# zapisane jako sinus.png"
   ]
  },
  {
   "cell_type": "markdown",
   "metadata": {},
   "source": [
    "![sinus](sinus.png)\n"
   ]
  },
  {
   "cell_type": "markdown",
   "metadata": {},
   "source": [
    "\n",
    "- cosinus (częstotliwość,czas początkowy, czas końcowy, ilość próbek)\n"
   ]
  },
  {
   "cell_type": "code",
   "execution_count": null,
   "metadata": {},
   "outputs": [],
   "source": [
    "y2=sbe.cosinus(1.5,2,4,1000)\n",
    "x2=np.linspace(0,4,len(y2))\n",
    "sbe.plot_line(x2,y2)\n",
    "# zapisane jako cosinus.png"
   ]
  },
  {
   "cell_type": "markdown",
   "metadata": {},
   "source": [
    "![cosinus](cosinus.png)\n"
   ]
  },
  {
   "cell_type": "markdown",
   "metadata": {},
   "source": [
    "\n",
    "- sygnał prostokątny (czas początkowy, czas końcowy, ilość próbek)\n"
   ]
  },
  {
   "cell_type": "code",
   "execution_count": null,
   "metadata": {},
   "outputs": [],
   "source": [
    "y3=sbe.rectangle(8,17,1000)\n",
    "x3=np.linspace(0,17,len(y3))\n",
    "sbe.plot_line(x3,y3)\n",
    "# zapisane jako rectangle.png"
   ]
  },
  {
   "cell_type": "markdown",
   "metadata": {},
   "source": [
    "![rectangle](rectangle.png)\n"
   ]
  },
  {
   "cell_type": "markdown",
   "metadata": {},
   "source": [
    "\n",
    "- sygnał piłokształtny (częstotliwość,czas początkowy, czas końcowy, ilość próbek)\n"
   ]
  },
  {
   "cell_type": "code",
   "execution_count": null,
   "metadata": {},
   "outputs": [],
   "source": [
    "y4=sbe.sawtooth(1/6,4,26,1000)\n",
    "x4=np.linspace(0,26,len(y4))\n",
    "sbe.plot_line(x4,y4)\n",
    "# zapisane jako sawtooth.png"
   ]
  },
  {
   "cell_type": "markdown",
   "metadata": {},
   "source": [
    "![sawtooth](sawtooth.png)\n"
   ]
  },
  {
   "cell_type": "markdown",
   "metadata": {},
   "source": [
    "\n",
    "## Dodatkowo: \n",
    "## 6. Usuwanie niskich częstotliwości z sygnału (korzystajac z DFT)\n"
   ]
  },
  {
   "cell_type": "code",
   "execution_count": null,
   "metadata": {},
   "outputs": [],
   "source": [
    "s1=sbe.sinus(2,0,50,1000)\n",
    "s2=sbe.sinus(1/10,0,50,1000)\n",
    "y=np.zeros(len(s1))\n",
    "for i in range(len(s1)):\n",
    "    y[i]=0.5*s1[i]+s2[i]\n",
    "\n",
    "x=np.linspace(0,50,len(y))\n",
    "y1=np.abs(sbe.DFT(y))**2\n",
    "sbe.plot_line(x,y)\n",
    "# zapisane jako suma_sinus.png\n",
    "sbe.plot_line(x,y1)\n",
    "# zapisane jako dft_suma_sinus.png\n",
    "y2=sbe.high_pass_filter(y,2,1000,50)\n",
    "# zapisane jako fir_suma_sinus.png\n",
    "sbe.plot_line(x,y2)\n",
    "# zapisane jako dft_firsuma_sinus.png\n"
   ]
  },
  {
   "cell_type": "markdown",
   "metadata": {},
   "source": [
    "![suma_sinus](suma_sinus.png)\n",
    "![dft_suma_sinus](dft_suma_sinus.png)\n",
    "![fir_suma_sinus](fir_suma_sinus.png)\n",
    "![dft_fir_suma_sinus](dft_fir_suma_sinus.png)\n"
   ]
  },
  {
   "cell_type": "markdown",
   "metadata": {},
   "source": [
    "\n",
    "## 2. Wykrywanie krawędzi (korzystajac z filtracji)\n"
   ]
  }
 ],
 "metadata": {
  "kernelspec": {
   "display_name": "base",
   "language": "python",
   "name": "python3"
  },
  "language_info": {
   "codemirror_mode": {
    "name": "ipython",
    "version": 3
   },
   "file_extension": ".py",
   "mimetype": "text/x-python",
   "name": "python",
   "nbconvert_exporter": "python",
   "pygments_lexer": "ipython3",
   "version": "3.13.2"
  }
 },
 "nbformat": 4,
 "nbformat_minor": 2
}
